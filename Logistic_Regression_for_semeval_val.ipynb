{
  "cells": [
    {
      "cell_type": "code",
      "execution_count": 1,
      "metadata": {
        "id": "90qK_fohDCot",
        "colab": {
          "base_uri": "https://localhost:8080/"
        },
        "outputId": "a93c6510-97d1-4368-8e3c-f7636bf1965b"
      },
      "outputs": [
        {
          "output_type": "stream",
          "name": "stdout",
          "text": [
            "/bin/bash: nvidia-smi: command not found\n",
            "--2022-02-13 09:44:17--  http://nlp.stanford.edu/data/glove.6B.zip\n",
            "Resolving nlp.stanford.edu (nlp.stanford.edu)... 171.64.67.140\n",
            "Connecting to nlp.stanford.edu (nlp.stanford.edu)|171.64.67.140|:80... connected.\n",
            "HTTP request sent, awaiting response... 302 Found\n",
            "Location: https://nlp.stanford.edu/data/glove.6B.zip [following]\n",
            "--2022-02-13 09:44:17--  https://nlp.stanford.edu/data/glove.6B.zip\n",
            "Connecting to nlp.stanford.edu (nlp.stanford.edu)|171.64.67.140|:443... connected.\n",
            "HTTP request sent, awaiting response... 301 Moved Permanently\n",
            "Location: http://downloads.cs.stanford.edu/nlp/data/glove.6B.zip [following]\n",
            "--2022-02-13 09:44:17--  http://downloads.cs.stanford.edu/nlp/data/glove.6B.zip\n",
            "Resolving downloads.cs.stanford.edu (downloads.cs.stanford.edu)... 171.64.64.22\n",
            "Connecting to downloads.cs.stanford.edu (downloads.cs.stanford.edu)|171.64.64.22|:80... connected.\n",
            "HTTP request sent, awaiting response... 200 OK\n",
            "Length: 862182613 (822M) [application/zip]\n",
            "Saving to: ‘glove.6B.zip’\n",
            "\n",
            "glove.6B.zip        100%[===================>] 822.24M  5.19MB/s    in 2m 39s  \n",
            "\n",
            "2022-02-13 09:46:56 (5.17 MB/s) - ‘glove.6B.zip’ saved [862182613/862182613]\n",
            "\n"
          ]
        }
      ],
      "source": [
        "!nvidia-smi\n",
        "!wget http://nlp.stanford.edu/data/glove.6B.zip\n",
        "!unzip -q glove.6B.zip"
      ]
    },
    {
      "cell_type": "code",
      "execution_count": 2,
      "metadata": {
        "colab": {
          "base_uri": "https://localhost:8080/"
        },
        "id": "gHdtkkNH_lDW",
        "outputId": "b40ee17f-db0b-4a40-bcd9-0098547b0d2b"
      },
      "outputs": [
        {
          "output_type": "stream",
          "name": "stdout",
          "text": [
            "(10000,) (10000,)\n",
            "5000\n"
          ]
        }
      ],
      "source": [
        "import pandas as pd\n",
        "import numpy as np\n",
        "from collections import Counter\n",
        "import re\n",
        "from sklearn.model_selection import train_test_split\n",
        "from sklearn.metrics import f1_score\n",
        "train_df = pd.read_csv('mami_training.csv', sep='\\t', lineterminator='\\r')\n",
        "test_df = pd.read_csv('Test.csv', sep='\\t', lineterminator='\\n')\n",
        "test_labels = pd.read_csv('test_labels.txt',header=None, sep='\\t', lineterminator='\\n')\n",
        "X = train_df['Text Transcription'].copy()\n",
        "for i in range(len(X)):\n",
        "  X[i] = X[i].lower()\n",
        "X_test_model = test_df['Text Transcription'].to_numpy()\n",
        "for i in range(len(X_test_model)):\n",
        "  X_test_model[i] = X_test_model[i].lower()\n",
        "Y = train_df['misogynous']\n",
        "X_train_model = X[:].to_numpy()\n",
        "Y_train_model = Y[:].to_numpy()\n",
        "print(X_train_model.shape, Y_train_model.shape)\n",
        "print(Y_train_model.sum())"
      ]
    },
    {
      "cell_type": "code",
      "execution_count": 3,
      "metadata": {
        "colab": {
          "base_uri": "https://localhost:8080/"
        },
        "id": "ySblmBAnY-7R",
        "outputId": "69849cdc-f57b-4456-957e-f0af48781168"
      },
      "outputs": [
        {
          "output_type": "execute_result",
          "data": {
            "text/plain": [
              "500"
            ]
          },
          "metadata": {},
          "execution_count": 3
        }
      ],
      "source": [
        "test_labels[1].sum()"
      ]
    },
    {
      "cell_type": "code",
      "execution_count": 4,
      "metadata": {
        "colab": {
          "base_uri": "https://localhost:8080/",
          "height": 206
        },
        "id": "hkfzoXm7IYKx",
        "outputId": "0167a685-887f-4aec-f8d9-3b0afaba1492"
      },
      "outputs": [
        {
          "output_type": "execute_result",
          "data": {
            "text/html": [
              "\n",
              "  <div id=\"df-c9be1274-ffa9-4c19-9cf7-0d90834c7946\">\n",
              "    <div class=\"colab-df-container\">\n",
              "      <div>\n",
              "<style scoped>\n",
              "    .dataframe tbody tr th:only-of-type {\n",
              "        vertical-align: middle;\n",
              "    }\n",
              "\n",
              "    .dataframe tbody tr th {\n",
              "        vertical-align: top;\n",
              "    }\n",
              "\n",
              "    .dataframe thead th {\n",
              "        text-align: right;\n",
              "    }\n",
              "</style>\n",
              "<table border=\"1\" class=\"dataframe\">\n",
              "  <thead>\n",
              "    <tr style=\"text-align: right;\">\n",
              "      <th></th>\n",
              "      <th>file_name</th>\n",
              "      <th>misogynous</th>\n",
              "      <th>shaming</th>\n",
              "      <th>stereotype</th>\n",
              "      <th>objectification</th>\n",
              "      <th>violence</th>\n",
              "      <th>Text Transcription</th>\n",
              "    </tr>\n",
              "  </thead>\n",
              "  <tbody>\n",
              "    <tr>\n",
              "      <th>0</th>\n",
              "      <td>\\n1.jpg</td>\n",
              "      <td>0</td>\n",
              "      <td>0</td>\n",
              "      <td>0</td>\n",
              "      <td>0</td>\n",
              "      <td>0</td>\n",
              "      <td>Milk Milk.zip</td>\n",
              "    </tr>\n",
              "    <tr>\n",
              "      <th>1</th>\n",
              "      <td>\\n10.jpg</td>\n",
              "      <td>1</td>\n",
              "      <td>0</td>\n",
              "      <td>0</td>\n",
              "      <td>0</td>\n",
              "      <td>1</td>\n",
              "      <td>ROSES ARE RED, VIOLETS ARE BLUE IF YOU DON'T S...</td>\n",
              "    </tr>\n",
              "    <tr>\n",
              "      <th>2</th>\n",
              "      <td>\\n1000.jpg</td>\n",
              "      <td>0</td>\n",
              "      <td>0</td>\n",
              "      <td>0</td>\n",
              "      <td>0</td>\n",
              "      <td>0</td>\n",
              "      <td>BREAKING NEWS: Russia releases photo of DONALD...</td>\n",
              "    </tr>\n",
              "    <tr>\n",
              "      <th>3</th>\n",
              "      <td>\\n10000.jpg</td>\n",
              "      <td>0</td>\n",
              "      <td>0</td>\n",
              "      <td>0</td>\n",
              "      <td>0</td>\n",
              "      <td>0</td>\n",
              "      <td>MAN SEEKING WOMAN Ignad 18 O</td>\n",
              "    </tr>\n",
              "    <tr>\n",
              "      <th>4</th>\n",
              "      <td>\\n10006.jpg</td>\n",
              "      <td>0</td>\n",
              "      <td>0</td>\n",
              "      <td>0</td>\n",
              "      <td>0</td>\n",
              "      <td>0</td>\n",
              "      <td>Me explaining the deep lore of. J.R.R. Tolkein...</td>\n",
              "    </tr>\n",
              "  </tbody>\n",
              "</table>\n",
              "</div>\n",
              "      <button class=\"colab-df-convert\" onclick=\"convertToInteractive('df-c9be1274-ffa9-4c19-9cf7-0d90834c7946')\"\n",
              "              title=\"Convert this dataframe to an interactive table.\"\n",
              "              style=\"display:none;\">\n",
              "        \n",
              "  <svg xmlns=\"http://www.w3.org/2000/svg\" height=\"24px\"viewBox=\"0 0 24 24\"\n",
              "       width=\"24px\">\n",
              "    <path d=\"M0 0h24v24H0V0z\" fill=\"none\"/>\n",
              "    <path d=\"M18.56 5.44l.94 2.06.94-2.06 2.06-.94-2.06-.94-.94-2.06-.94 2.06-2.06.94zm-11 1L8.5 8.5l.94-2.06 2.06-.94-2.06-.94L8.5 2.5l-.94 2.06-2.06.94zm10 10l.94 2.06.94-2.06 2.06-.94-2.06-.94-.94-2.06-.94 2.06-2.06.94z\"/><path d=\"M17.41 7.96l-1.37-1.37c-.4-.4-.92-.59-1.43-.59-.52 0-1.04.2-1.43.59L10.3 9.45l-7.72 7.72c-.78.78-.78 2.05 0 2.83L4 21.41c.39.39.9.59 1.41.59.51 0 1.02-.2 1.41-.59l7.78-7.78 2.81-2.81c.8-.78.8-2.07 0-2.86zM5.41 20L4 18.59l7.72-7.72 1.47 1.35L5.41 20z\"/>\n",
              "  </svg>\n",
              "      </button>\n",
              "      \n",
              "  <style>\n",
              "    .colab-df-container {\n",
              "      display:flex;\n",
              "      flex-wrap:wrap;\n",
              "      gap: 12px;\n",
              "    }\n",
              "\n",
              "    .colab-df-convert {\n",
              "      background-color: #E8F0FE;\n",
              "      border: none;\n",
              "      border-radius: 50%;\n",
              "      cursor: pointer;\n",
              "      display: none;\n",
              "      fill: #1967D2;\n",
              "      height: 32px;\n",
              "      padding: 0 0 0 0;\n",
              "      width: 32px;\n",
              "    }\n",
              "\n",
              "    .colab-df-convert:hover {\n",
              "      background-color: #E2EBFA;\n",
              "      box-shadow: 0px 1px 2px rgba(60, 64, 67, 0.3), 0px 1px 3px 1px rgba(60, 64, 67, 0.15);\n",
              "      fill: #174EA6;\n",
              "    }\n",
              "\n",
              "    [theme=dark] .colab-df-convert {\n",
              "      background-color: #3B4455;\n",
              "      fill: #D2E3FC;\n",
              "    }\n",
              "\n",
              "    [theme=dark] .colab-df-convert:hover {\n",
              "      background-color: #434B5C;\n",
              "      box-shadow: 0px 1px 3px 1px rgba(0, 0, 0, 0.15);\n",
              "      filter: drop-shadow(0px 1px 2px rgba(0, 0, 0, 0.3));\n",
              "      fill: #FFFFFF;\n",
              "    }\n",
              "  </style>\n",
              "\n",
              "      <script>\n",
              "        const buttonEl =\n",
              "          document.querySelector('#df-c9be1274-ffa9-4c19-9cf7-0d90834c7946 button.colab-df-convert');\n",
              "        buttonEl.style.display =\n",
              "          google.colab.kernel.accessAllowed ? 'block' : 'none';\n",
              "\n",
              "        async function convertToInteractive(key) {\n",
              "          const element = document.querySelector('#df-c9be1274-ffa9-4c19-9cf7-0d90834c7946');\n",
              "          const dataTable =\n",
              "            await google.colab.kernel.invokeFunction('convertToInteractive',\n",
              "                                                     [key], {});\n",
              "          if (!dataTable) return;\n",
              "\n",
              "          const docLinkHtml = 'Like what you see? Visit the ' +\n",
              "            '<a target=\"_blank\" href=https://colab.research.google.com/notebooks/data_table.ipynb>data table notebook</a>'\n",
              "            + ' to learn more about interactive tables.';\n",
              "          element.innerHTML = '';\n",
              "          dataTable['output_type'] = 'display_data';\n",
              "          await google.colab.output.renderOutput(dataTable, element);\n",
              "          const docLink = document.createElement('div');\n",
              "          docLink.innerHTML = docLinkHtml;\n",
              "          element.appendChild(docLink);\n",
              "        }\n",
              "      </script>\n",
              "    </div>\n",
              "  </div>\n",
              "  "
            ],
            "text/plain": [
              "     file_name  ...                                 Text Transcription\n",
              "0      \\n1.jpg  ...                                      Milk Milk.zip\n",
              "1     \\n10.jpg  ...  ROSES ARE RED, VIOLETS ARE BLUE IF YOU DON'T S...\n",
              "2   \\n1000.jpg  ...  BREAKING NEWS: Russia releases photo of DONALD...\n",
              "3  \\n10000.jpg  ...                       MAN SEEKING WOMAN Ignad 18 O\n",
              "4  \\n10006.jpg  ...  Me explaining the deep lore of. J.R.R. Tolkein...\n",
              "\n",
              "[5 rows x 7 columns]"
            ]
          },
          "metadata": {},
          "execution_count": 4
        }
      ],
      "source": [
        "train_df.head()"
      ]
    },
    {
      "cell_type": "code",
      "execution_count": 5,
      "metadata": {
        "colab": {
          "base_uri": "https://localhost:8080/"
        },
        "id": "J77pLTH0OHUa",
        "outputId": "3c2b1d7c-d62d-491f-d537-a043a17799ed"
      },
      "outputs": [
        {
          "output_type": "stream",
          "name": "stdout",
          "text": [
            "Found 400000 word vectors.\n"
          ]
        }
      ],
      "source": [
        "embeddings_index = {}\n",
        "\n",
        "f = open('glove.6B.200d.txt')\n",
        "for line in f:\n",
        "    values = line.split()\n",
        "    word = value = values[0]\n",
        "    coefs = np.asarray(values[1:], dtype='float32')\n",
        "    embeddings_index[word] = coefs\n",
        "f.close()\n",
        "\n",
        "print('Found %s word vectors.' %len(embeddings_index))"
      ]
    },
    {
      "cell_type": "code",
      "execution_count": 6,
      "metadata": {
        "colab": {
          "base_uri": "https://localhost:8080/"
        },
        "id": "qIdPEBUBOZ2s",
        "outputId": "5a9afcc8-358c-46de-d15d-3aaa08d0a46e"
      },
      "outputs": [
        {
          "output_type": "stream",
          "name": "stdout",
          "text": [
            "20693\n"
          ]
        }
      ],
      "source": [
        "from tensorflow.python.keras.preprocessing.text import Tokenizer\n",
        "from tensorflow.python.keras.preprocessing.sequence  import pad_sequences\n",
        "\n",
        "tokenizer_obj = Tokenizer()\n",
        "total_memes =  train_df['Text Transcription']\n",
        "tokenizer_obj.fit_on_texts(total_memes)\n",
        "\n",
        "max_length = 50 #max([len(s.split()) for s in total_memes])\n",
        "vocab_size  = len(tokenizer_obj.word_index) + 1\n",
        "X_train_tokens = tokenizer_obj.texts_to_sequences(X_train_model)\n",
        "X_test_tokens = tokenizer_obj.texts_to_sequences(X_test_model)\n",
        "X_train_pad = pad_sequences(X_train_tokens, maxlen=max_length)\n",
        "X_test_pad = pad_sequences(X_test_tokens, maxlen=max_length)\n",
        "print(vocab_size)"
      ]
    },
    {
      "cell_type": "code",
      "execution_count": 7,
      "metadata": {
        "colab": {
          "base_uri": "https://localhost:8080/"
        },
        "id": "1Q3B2kmiU7s8",
        "outputId": "de48421f-9c2c-48c6-beda-ba888c1776ae"
      },
      "outputs": [
        {
          "output_type": "stream",
          "name": "stdout",
          "text": [
            "(1000, 200) (10000, 200)\n"
          ]
        }
      ],
      "source": [
        "EMBEDDING_DIM = 200\n",
        "word_index = tokenizer_obj.word_index\n",
        "embedding_matrix = np.zeros((vocab_size, EMBEDDING_DIM))\n",
        "for word, i in word_index.items():\n",
        "    embedding_vector = embeddings_index.get(word)\n",
        "    if embedding_vector is not None:\n",
        "      embedding_matrix[i] = embedding_vector\n",
        "\n",
        "def average_glove(df):\n",
        "  real_X = np.zeros((len(df) , EMBEDDING_DIM))\n",
        "  for i in range(len(df)):\n",
        "    num = 0\n",
        "    for word in df[i]:\n",
        "      num += 1\n",
        "      real_X[i] += embedding_matrix[int(word)]\n",
        "    if num!=0:\n",
        "      real_X[i] = real_X[i]/num\n",
        "  return real_X\n",
        "\n",
        "X_train_pad_2_vec = average_glove(X_train_pad)\n",
        "X_test_pad_2_vec = average_glove(X_test_pad)\n",
        "print(X_test_pad_2_vec.shape,X_train_pad_2_vec.shape )"
      ]
    },
    {
      "cell_type": "code",
      "execution_count": 8,
      "metadata": {
        "colab": {
          "base_uri": "https://localhost:8080/"
        },
        "id": "eeexSaGHPhuH",
        "outputId": "66f690fe-5bf9-49b6-f623-2d5750ad0324"
      },
      "outputs": [
        {
          "output_type": "stream",
          "name": "stderr",
          "text": [
            "[Parallel(n_jobs=5)]: Using backend LokyBackend with 5 concurrent workers.\n",
            "[Parallel(n_jobs=5)]: Done   2 out of   5 | elapsed:   23.0s remaining:   34.4s\n",
            "[Parallel(n_jobs=5)]: Done   5 out of   5 | elapsed:   23.8s remaining:    0.0s\n",
            "[Parallel(n_jobs=5)]: Done   5 out of   5 | elapsed:   23.8s finished\n"
          ]
        },
        {
          "output_type": "stream",
          "name": "stdout",
          "text": [
            "[LibLinear]######## Misogynous Prediction ########\n",
            "\n",
            "Training Dataset \n",
            "[[2887 1076]\n",
            " [1007 3030]] \n",
            " F1 score -  0.7395417795288998\n",
            "\n",
            "Validation Dataset \n",
            "[[734 303]\n",
            " [276 687]] \n",
            " F1 score -  0.7103400352844859\n",
            "\n",
            "Submission Score \n",
            "[[224 276]\n",
            " [128 372]] \n",
            " F1 score -  0.5869526099687556\n"
          ]
        }
      ],
      "source": [
        "from sklearn.linear_model import LogisticRegressionCV\n",
        "from sklearn.metrics import confusion_matrix\n",
        "Y_test_model = test_labels[1].to_numpy()\n",
        "Y_train_model = train_df['misogynous'].to_numpy()\n",
        "lr_clf = LogisticRegressionCV(random_state=42, solver='liblinear', max_iter=1000, n_jobs=5, verbose=2, scoring='f1_macro', refit=True)\n",
        "lr_clf.fit(X_train_pad_2_vec[:8000], Y_train_model[:8000])\n",
        "print(\"######## Misogynous Prediction ########\")\n",
        "print(\"\\nTraining Dataset \")\n",
        "y_pred = lr_clf.predict(X_train_pad_2_vec[:8000])\n",
        "print(confusion_matrix(Y_train_model[:8000], y_pred),\"\\n F1 score - \", f1_score(Y_train_model[:8000], y_pred, average='macro'))\n",
        "print(\"\\nValidation Dataset \")\n",
        "y_pred = lr_clf.predict(X_train_pad_2_vec[8000:])\n",
        "print(confusion_matrix(Y_train_model[8000:], y_pred),\"\\n F1 score - \", f1_score(Y_train_model[8000:], y_pred, average='macro'))\n",
        "y_pred = lr_clf.predict(X_test_pad_2_vec)\n",
        "print(\"\\nSubmission Score \")\n",
        "print(confusion_matrix(Y_test_model, y_pred),\"\\n F1 score - \", f1_score(Y_test_model, y_pred, average='macro'))\n",
        "subtaskA = f1_score(Y_test_model, y_pred, average='macro')\n",
        "subtaskB = f1_score(Y_test_model, y_pred, average='macro')*(Y_test_model.sum())"
      ]
    },
    {
      "cell_type": "code",
      "execution_count": 9,
      "metadata": {
        "colab": {
          "base_uri": "https://localhost:8080/"
        },
        "id": "yoONDfsDbebh",
        "outputId": "3de71e5a-c607-4875-8658-7b82b3ccf27b"
      },
      "outputs": [
        {
          "output_type": "stream",
          "name": "stderr",
          "text": [
            "[Parallel(n_jobs=5)]: Using backend LokyBackend with 5 concurrent workers.\n",
            "[Parallel(n_jobs=5)]: Done   2 out of   5 | elapsed:   16.7s remaining:   25.1s\n",
            "[Parallel(n_jobs=5)]: Done   5 out of   5 | elapsed:   17.3s remaining:    0.0s\n",
            "[Parallel(n_jobs=5)]: Done   5 out of   5 | elapsed:   17.3s finished\n"
          ]
        },
        {
          "output_type": "stream",
          "name": "stdout",
          "text": [
            "[LibLinear]######## Shaming Prediction ########\n",
            "\n",
            "Training Dataset \n",
            "[[6868   76]\n",
            " [ 917  139]] \n",
            " F1 score -  0.5756536970931263\n",
            "\n",
            "Validation Dataset \n",
            "[[1763   19]\n",
            " [ 190   28]] \n",
            " F1 score -  0.5776817963678614\n",
            "\n",
            "######## Shaming Prediction ########\n",
            "[[838  16]\n",
            " [133  13]] \n",
            " F1 score -  0.5334637964774951\n"
          ]
        }
      ],
      "source": [
        "Y_train_model = train_df['shaming'].to_numpy()\n",
        "Y_test_model = test_labels[2].to_numpy()\n",
        "lr_clf = LogisticRegressionCV(random_state=42, solver='liblinear', max_iter=1000, n_jobs=5, verbose=2, scoring='f1_macro', refit=True)\n",
        "lr_clf.fit(X_train_pad_2_vec[:8000], Y_train_model[:8000])\n",
        "print(\"######## Shaming Prediction ########\")\n",
        "print(\"\\nTraining Dataset \")\n",
        "y_pred = lr_clf.predict(X_train_pad_2_vec[:8000])\n",
        "print(confusion_matrix(Y_train_model[:8000], y_pred),\"\\n F1 score - \", f1_score(Y_train_model[:8000], y_pred, average='macro'))\n",
        "print(\"\\nValidation Dataset \")\n",
        "y_pred = lr_clf.predict(X_train_pad_2_vec[8000:])\n",
        "print(confusion_matrix(Y_train_model[8000:], y_pred),\"\\n F1 score - \", f1_score(Y_train_model[8000:], y_pred, average='macro'))\n",
        "y_pred = lr_clf.predict(X_test_pad_2_vec)\n",
        "print(\"\\n######## Shaming Prediction ########\")\n",
        "print(confusion_matrix(Y_test_model, y_pred),\"\\n F1 score - \", f1_score(Y_test_model, y_pred, average='macro'))\n",
        "subtaskB += f1_score(Y_test_model, y_pred, average='macro')*(Y_test_model.sum())"
      ]
    },
    {
      "cell_type": "code",
      "execution_count": 10,
      "metadata": {
        "colab": {
          "base_uri": "https://localhost:8080/"
        },
        "id": "NjFZV3NocJYc",
        "outputId": "df93fed1-9721-4daf-fba5-a64110465978"
      },
      "outputs": [
        {
          "output_type": "stream",
          "name": "stderr",
          "text": [
            "[Parallel(n_jobs=5)]: Using backend LokyBackend with 5 concurrent workers.\n",
            "[Parallel(n_jobs=5)]: Done   2 out of   5 | elapsed:   19.6s remaining:   29.3s\n",
            "[Parallel(n_jobs=5)]: Done   5 out of   5 | elapsed:   20.1s remaining:    0.0s\n",
            "[Parallel(n_jobs=5)]: Done   5 out of   5 | elapsed:   20.1s finished\n"
          ]
        },
        {
          "output_type": "stream",
          "name": "stdout",
          "text": [
            "[LibLinear]######## Stereotype Prediction ########\n",
            "\n",
            "Training Dataset \n",
            "[[5142  442]\n",
            " [1546  870]] \n",
            " F1 score -  0.6523717062743759\n",
            "\n",
            "Validation Dataset \n",
            "[[1442  164]\n",
            " [ 247  147]] \n",
            " F1 score -  0.646143415232622\n",
            "\n",
            "######## Stereotype Prediction ########\n",
            "[[575  75]\n",
            " [263  87]] \n",
            " F1 score -  0.5563466061827956\n"
          ]
        }
      ],
      "source": [
        "Y_train_model = train_df['stereotype'].to_numpy()\n",
        "Y_test_model = test_labels[3].to_numpy()\n",
        "lr_clf = LogisticRegressionCV(random_state=42, solver='liblinear', max_iter=1000, n_jobs=5, verbose=2, scoring='f1_macro', refit=True)\n",
        "lr_clf.fit(X_train_pad_2_vec[:8000], Y_train_model[:8000])\n",
        "print(\"######## Stereotype Prediction ########\")\n",
        "print(\"\\nTraining Dataset \")\n",
        "y_pred = lr_clf.predict(X_train_pad_2_vec[:8000])\n",
        "print(confusion_matrix(Y_train_model[:8000], y_pred),\"\\n F1 score - \", f1_score(Y_train_model[:8000], y_pred, average='macro'))\n",
        "print(\"\\nValidation Dataset \")\n",
        "y_pred = lr_clf.predict(X_train_pad_2_vec[8000:])\n",
        "print(confusion_matrix(Y_train_model[8000:], y_pred),\"\\n F1 score - \", f1_score(Y_train_model[8000:], y_pred, average='macro'))\n",
        "y_pred = lr_clf.predict(X_test_pad_2_vec)\n",
        "print(\"\\n######## Stereotype Prediction ########\")\n",
        "print(confusion_matrix(Y_test_model, y_pred),\"\\n F1 score - \", f1_score(Y_test_model, y_pred, average='macro'))\n",
        "subtaskB += f1_score(Y_test_model, y_pred, average='macro')*(Y_test_model.sum())"
      ]
    },
    {
      "cell_type": "code",
      "execution_count": 11,
      "metadata": {
        "colab": {
          "base_uri": "https://localhost:8080/"
        },
        "id": "43ZAB6vodMCx",
        "outputId": "47206ff5-de17-4b35-ca7e-b8ec9e51de83"
      },
      "outputs": [
        {
          "output_type": "stream",
          "name": "stderr",
          "text": [
            "[Parallel(n_jobs=5)]: Using backend LokyBackend with 5 concurrent workers.\n",
            "[Parallel(n_jobs=5)]: Done   2 out of   5 | elapsed:   20.4s remaining:   30.6s\n",
            "[Parallel(n_jobs=5)]: Done   5 out of   5 | elapsed:   21.3s remaining:    0.0s\n",
            "[Parallel(n_jobs=5)]: Done   5 out of   5 | elapsed:   21.3s finished\n"
          ]
        },
        {
          "output_type": "stream",
          "name": "stdout",
          "text": [
            "[LibLinear]######## Objectification Prediction ########\n",
            "\n",
            "Training Dataset \n",
            "[[5949  218]\n",
            " [1457  376]] \n",
            " F1 score -  0.5932203924931434\n",
            "\n",
            "Validation Dataset \n",
            "[[1567   64]\n",
            " [ 298   71]] \n",
            " F1 score -  0.5890995604954414\n",
            "\n",
            "######## Objectification Prediction ########\n",
            "[[609  43]\n",
            " [293  55]] \n",
            " F1 score -  0.5152102775421161\n"
          ]
        }
      ],
      "source": [
        "Y_train_model = train_df['objectification'].to_numpy()\n",
        "Y_test_model = test_labels[4].to_numpy()\n",
        "lr_clf = LogisticRegressionCV(random_state=42, solver='liblinear', max_iter=1000, n_jobs=5, verbose=2, scoring='f1_macro', refit=True)\n",
        "lr_clf.fit(X_train_pad_2_vec[:8000], Y_train_model[:8000])\n",
        "print(\"######## Objectification Prediction ########\")\n",
        "print(\"\\nTraining Dataset \")\n",
        "y_pred = lr_clf.predict(X_train_pad_2_vec[:8000])\n",
        "print(confusion_matrix(Y_train_model[:8000], y_pred),\"\\n F1 score - \", f1_score(Y_train_model[:8000], y_pred, average='macro'))\n",
        "print(\"\\nValidation Dataset \")\n",
        "y_pred = lr_clf.predict(X_train_pad_2_vec[8000:])\n",
        "print(confusion_matrix(Y_train_model[8000:], y_pred),\"\\n F1 score - \", f1_score(Y_train_model[8000:], y_pred, average='macro'))\n",
        "y_pred = lr_clf.predict(X_test_pad_2_vec)\n",
        "print(\"\\n######## Objectification Prediction ########\")\n",
        "print(confusion_matrix(Y_test_model, y_pred),\"\\n F1 score - \", f1_score(Y_test_model, y_pred, average='macro'))\n",
        "subtaskB += f1_score(Y_test_model, y_pred, average='macro')*(Y_test_model.sum())"
      ]
    },
    {
      "cell_type": "code",
      "execution_count": 12,
      "metadata": {
        "colab": {
          "base_uri": "https://localhost:8080/"
        },
        "id": "FppcF3lAf5M0",
        "outputId": "6bc27eca-be90-46a0-a429-9681cfeb5a65"
      },
      "outputs": [
        {
          "output_type": "stream",
          "name": "stderr",
          "text": [
            "[Parallel(n_jobs=5)]: Using backend LokyBackend with 5 concurrent workers.\n",
            "[Parallel(n_jobs=5)]: Done   2 out of   5 | elapsed:   17.7s remaining:   26.5s\n",
            "[Parallel(n_jobs=5)]: Done   5 out of   5 | elapsed:   18.1s remaining:    0.0s\n",
            "[Parallel(n_jobs=5)]: Done   5 out of   5 | elapsed:   18.1s finished\n"
          ]
        },
        {
          "output_type": "stream",
          "name": "stdout",
          "text": [
            "[LibLinear]######## Violence Prediction ########\n",
            "\n",
            "Training Dataset \n",
            "[[7133   36]\n",
            " [ 755   76]] \n",
            " F1 score -  0.5543269967900698\n",
            "\n",
            "Validation Dataset \n",
            "[[1860   18]\n",
            " [ 114    8]] \n",
            " F1 score -  0.5369200976677613\n",
            "\n",
            "######## Violence Prediction ########\n",
            "[[836  11]\n",
            " [141  12]] \n",
            " F1 score -  0.5265151515151516\n"
          ]
        }
      ],
      "source": [
        "Y_train_model = train_df['violence'].to_numpy()\n",
        "Y_test_model = test_labels[5].to_numpy()\n",
        "lr_clf = LogisticRegressionCV(random_state=42, solver='liblinear', max_iter=1000, n_jobs=5, verbose=2, scoring='f1_macro', refit=True)\n",
        "lr_clf.fit(X_train_pad_2_vec[:8000], Y_train_model[:8000])\n",
        "print(\"######## Violence Prediction ########\")\n",
        "print(\"\\nTraining Dataset \")\n",
        "y_pred = lr_clf.predict(X_train_pad_2_vec[:8000])\n",
        "print(confusion_matrix(Y_train_model[:8000], y_pred),\"\\n F1 score - \", f1_score(Y_train_model[:8000], y_pred, average='macro'))\n",
        "print(\"\\nValidation Dataset \")\n",
        "y_pred = lr_clf.predict(X_train_pad_2_vec[8000:])\n",
        "print(confusion_matrix(Y_train_model[8000:], y_pred),\"\\n F1 score - \", f1_score(Y_train_model[8000:], y_pred, average='macro'))\n",
        "y_pred = lr_clf.predict(X_test_pad_2_vec)\n",
        "print(\"\\n######## Violence Prediction ########\")\n",
        "print(confusion_matrix(Y_test_model, y_pred),\"\\n F1 score - \", f1_score(Y_test_model, y_pred, average='macro'))\n",
        "subtaskB += f1_score(Y_test_model, y_pred, average='macro')*(Y_test_model.sum())"
      ]
    },
    {
      "cell_type": "code",
      "execution_count": 13,
      "metadata": {
        "colab": {
          "base_uri": "https://localhost:8080/"
        },
        "id": "lT82zugwd19M",
        "outputId": "9ed4547a-e6ad-45a7-f6c3-8acbb2d576b9"
      },
      "outputs": [
        {
          "output_type": "stream",
          "name": "stdout",
          "text": [
            "Subtask A score - 0.5869526099687556 \n",
            " Subtask B score -  0.5517256688046395\n"
          ]
        }
      ],
      "source": [
        "print(\"Subtask A score -\", \n",
        "      subtaskA, \n",
        "      \"\\n Subtask B score - \", \n",
        "      subtaskB/(test_labels[5].sum()+ test_labels[4].sum()+ test_labels[3].sum()+test_labels[2].sum()+test_labels[1].sum()))"
      ]
    }
  ],
  "metadata": {
    "colab": {
      "name": "Logistic_Regression_for_semeval_val.ipynb",
      "provenance": []
    },
    "kernelspec": {
      "display_name": "Python 3",
      "name": "python3"
    },
    "language_info": {
      "name": "python"
    }
  },
  "nbformat": 4,
  "nbformat_minor": 0
}